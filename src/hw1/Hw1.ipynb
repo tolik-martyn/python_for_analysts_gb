{
 "cells": [
  {
   "cell_type": "markdown",
   "id": "8cf4eb6a-f4b3-4adc-b562-35ee4a673768",
   "metadata": {},
   "source": [
    "## Задание 1\n",
    "На складе лежат разные фрукты в разном количестве.\n",
    "\n",
    "Нужно написать функцию, которая на вход принимает любое количество названий фруктов и их количество, а возвращает общее количество фруктов на складе"
   ]
  },
  {
   "cell_type": "code",
   "execution_count": 62,
   "id": "ece60079-9e6b-4a19-b88d-a7987b5408db",
   "metadata": {},
   "outputs": [],
   "source": [
    "dic1 = {'apple': 10, 'kiwi': 5, 'mango': 3, 'orange': 7, 'pear': 11}\n",
    "dic2 = {'apple': 1, 'kiwi': 6, 'mango': 8, 'orange': 4, 'lemon': 11}"
   ]
  },
  {
   "cell_type": "code",
   "execution_count": 63,
   "id": "911a310f-c27a-45d2-a03d-c4fdabd4d348",
   "metadata": {},
   "outputs": [],
   "source": [
    "def count_fruits(*args: dict) -> (int, dict):\n",
    "    res = dict()\n",
    "    for i in range(len(args)):\n",
    "        for k in args[i].keys():\n",
    "            if k not in res.keys():\n",
    "                res[k] = args[i][k]\n",
    "            else:\n",
    "                res[k] += args[i][k]\n",
    "    count = sum(res.values())\n",
    "\n",
    "    return count, res"
   ]
  },
  {
   "cell_type": "code",
   "execution_count": 64,
   "id": "bde73d06-5202-4147-b971-756b3d8cf21e",
   "metadata": {},
   "outputs": [
    {
     "name": "stdout",
     "output_type": "stream",
     "text": [
      "(66, {'apple': 11, 'kiwi': 11, 'mango': 11, 'orange': 11, 'pear': 11, 'lemon': 11})\n"
     ]
    }
   ],
   "source": [
    "print(count_fruits(dic1, dic2)) "
   ]
  },
  {
   "cell_type": "markdown",
   "id": "7032c20d-6ae0-4e57-9ac2-460a44c5bf55",
   "metadata": {},
   "source": [
    "#### Пояснения по функции count_fruits:\n",
    "* count - общее количество\n",
    "* res - суммарный список фруктов, даже если были одинаковые фрукты в разных словарях."
   ]
  },
  {
   "cell_type": "markdown",
   "id": "81094a2f-3dad-44ee-b4f3-04a70e5a1874",
   "metadata": {},
   "source": [
    "## Задание 2\n",
    "Дан список с затратами на рекламу. Но в данных есть ошибки, некоторые затраты имеют отрицательную величину. \n",
    "\n",
    "Удалите такие значения из списка и посчитайте суммарные затраты\n",
    "\n",
    "[100, 125, -90, 345, 655, -1, 0, 200]\n",
    "\n",
    "Используйте list comprehensions"
   ]
  },
  {
   "cell_type": "code",
   "execution_count": 65,
   "id": "32186c77-15b8-48d0-b49f-3e9841471e9d",
   "metadata": {},
   "outputs": [],
   "source": [
    "advertising_costs = [100, 125, -90, 345, 655, -1, 0, 200]"
   ]
  },
  {
   "cell_type": "code",
   "execution_count": 66,
   "id": "f993add2-a1ee-4c3c-b708-e7fd68c52a86",
   "metadata": {},
   "outputs": [
    {
     "data": {
      "text/plain": [
       "1425"
      ]
     },
     "execution_count": 66,
     "metadata": {},
     "output_type": "execute_result"
    }
   ],
   "source": [
    "total_costs = sum([i for i in advertising_costs if i > 0])\n",
    "total_costs"
   ]
  },
  {
   "cell_type": "markdown",
   "id": "5e809590-eaed-40c8-b436-3c85dd01cf94",
   "metadata": {},
   "source": [
    "## Задание 3. \n",
    "Даны два списка.\n",
    "\n",
    "Дата покупки: \n",
    "\n",
    "['2021-09-14', '2021-12-15', '2021-09-08', '2021-12-05', '2021-10-09', '2021-09-30', '2021-12-22', '2021-11-29', '2021-12-24', '2021-11-26', '2021-10-27', '2021-12-18', '2021-11-09', '2021-11-23', '2021-09-27', '2021-10-02', '2021-12-27', '2021-09-20', '2021-12-13', '2021-11-01', '2021-11-09', '2021-12-06', '2021-12-08', '2021-10-09', '2021-10-31', '2021-09-30', '2021-11-09', '2021-12-13', '2021-10-26', '2021-12-09']\n",
    "\n",
    "Суммы покупок по датам: \n",
    "\n",
    "[1270, 8413, 9028, 3703, 5739, 4095, 295, 4944, 5723, 3701, 4471, 651, 7037, 4274, 6275, 4988, 6930, 2971, 6592, 2004, 2822, 519, 3406, 2732, 5015, 2008, 316, 6333, 5700, 2887]"
   ]
  },
  {
   "cell_type": "markdown",
   "id": "d4a449c1-f2db-420a-86d4-75a4febd1ad4",
   "metadata": {},
   "source": [
    "### 3.1 Найдите, какая выручка у компании в ноябре\n",
    "Используйте list comprehensions"
   ]
  },
  {
   "cell_type": "code",
   "execution_count": 67,
   "id": "1403f970-ea8d-46de-923d-fe2ed4c5e3d7",
   "metadata": {},
   "outputs": [],
   "source": [
    "purchase_dates = ['2021-09-14', '2021-12-15', '2021-09-08', '2021-12-05', '2021-10-09', '2021-09-30', '2021-12-22', '2021-11-29', '2021-12-24', '2021-11-26', '2021-10-27', '2021-12-18', '2021-11-09', '2021-11-23', '2021-09-27', '2021-10-02', '2021-12-27', '2021-09-20', '2021-12-13', '2021-11-01', '2021-11-09', '2021-12-06', '2021-12-08', '2021-10-09', '2021-10-31', '2021-09-30', '2021-11-09', '2021-12-13', '2021-10-26', '2021-12-09']\n",
    "purchase_amounts = [1270, 8413, 9028, 3703, 5739, 4095, 295, 4944, 5723, 3701, 4471, 651, 7037, 4274, 6275, 4988, 6930, 2971, 6592, 2004, 2822, 519, 3406, 2732, 5015, 2008, 316, 6333, 5700, 2887]"
   ]
  },
  {
   "cell_type": "code",
   "execution_count": 69,
   "id": "675d866b-b066-4c4a-bb2f-a5e16e44e50f",
   "metadata": {},
   "outputs": [
    {
     "data": {
      "text/plain": [
       "25098"
      ]
     },
     "execution_count": 69,
     "metadata": {},
     "output_type": "execute_result"
    }
   ],
   "source": [
    "purchase_amounts_november = sum([purchase_amounts[i] for i in range(len(purchase_amounts)) if purchase_dates[i].split('-')[1] == '11'])\n",
    "purchase_amounts_november"
   ]
  },
  {
   "cell_type": "markdown",
   "id": "1e72ea39-307f-49d5-94df-edc7e6f98e26",
   "metadata": {},
   "source": [
    "### 3.2 Найдите выручку компании в зависимости от месяца\n",
    "Для этого напишите функцию, которая на вход принимает список с датами и список с выручкой, а на выходе словарь, где ключи - это месяцы, а значения - это выручка.\n",
    "\n",
    "Используйте аннотирование типов."
   ]
  },
  {
   "cell_type": "code",
   "execution_count": 70,
   "id": "0e192d82-d950-4cc7-a17a-52bcf70081f9",
   "metadata": {},
   "outputs": [],
   "source": [
    "def company_income(list_dates: list, list_amounts: list) -> dict:\n",
    "    res = dict()\n",
    "    for i in range(len(list_amounts)):\n",
    "        if list_dates[i].split('-')[1] not in res.keys():\n",
    "            res[list_dates[i].split('-')[1]] = list_amounts[i]\n",
    "        else:\n",
    "            res[list_dates[i].split('-')[1]] += list_amounts[i]\n",
    "\n",
    "    return res"
   ]
  },
  {
   "cell_type": "code",
   "execution_count": 71,
   "id": "db1ff97f-52f0-4def-b12c-254e40b5fea9",
   "metadata": {},
   "outputs": [
    {
     "name": "stdout",
     "output_type": "stream",
     "text": [
      "{'09': 25647, '12': 45452, '10': 28645, '11': 25098}\n"
     ]
    }
   ],
   "source": [
    "print(company_income(purchase_dates,purchase_amounts))"
   ]
  },
  {
   "cell_type": "code",
   "execution_count": null,
   "id": "52e51577-0c69-48bc-a92f-55c464f6a7c8",
   "metadata": {},
   "outputs": [],
   "source": []
  }
 ],
 "metadata": {
  "kernelspec": {
   "display_name": "anaconda-2022.05-py39",
   "language": "python",
   "name": "conda-env-anaconda-2022.05-py39-py"
  },
  "language_info": {
   "codemirror_mode": {
    "name": "ipython",
    "version": 3
   },
   "file_extension": ".py",
   "mimetype": "text/x-python",
   "name": "python",
   "nbconvert_exporter": "python",
   "pygments_lexer": "ipython3",
   "version": "3.9.12"
  }
 },
 "nbformat": 4,
 "nbformat_minor": 5
}
